{
 "cells": [
  {
   "cell_type": "code",
   "execution_count": 4,
   "id": "2fd5dd94-4efe-4b98-9ad7-aa91b51ecd8a",
   "metadata": {},
   "outputs": [
    {
     "name": "stdout",
     "output_type": "stream",
     "text": [
      "Requirement already satisfied: pandas in c:\\users\\rawat\\anaconda3\\lib\\site-packages (2.2.3)\n",
      "Requirement already satisfied: numpy in c:\\users\\rawat\\anaconda3\\lib\\site-packages (2.1.3)\n",
      "Collecting faker\n",
      "  Downloading faker-37.5.3-py3-none-any.whl.metadata (15 kB)\n",
      "Requirement already satisfied: python-dateutil>=2.8.2 in c:\\users\\rawat\\anaconda3\\lib\\site-packages (from pandas) (2.9.0.post0)\n",
      "Requirement already satisfied: pytz>=2020.1 in c:\\users\\rawat\\anaconda3\\lib\\site-packages (from pandas) (2024.1)\n",
      "Requirement already satisfied: tzdata>=2022.7 in c:\\users\\rawat\\anaconda3\\lib\\site-packages (from pandas) (2025.2)\n",
      "Requirement already satisfied: six>=1.5 in c:\\users\\rawat\\anaconda3\\lib\\site-packages (from python-dateutil>=2.8.2->pandas) (1.17.0)\n",
      "Downloading faker-37.5.3-py3-none-any.whl (1.9 MB)\n",
      "   ---------------------------------------- 0.0/1.9 MB ? eta -:--:--\n",
      "   ---------------------------------------- 1.9/1.9 MB 22.2 MB/s eta 0:00:00\n",
      "Installing collected packages: faker\n",
      "Successfully installed faker-37.5.3\n",
      "Note: you may need to restart the kernel to use updated packages.\n"
     ]
    }
   ],
   "source": [
    "pip install pandas numpy faker"
   ]
  },
  {
   "cell_type": "code",
   "execution_count": 1,
   "id": "397b763e-f240-4222-9a3f-9c7cdd25b615",
   "metadata": {},
   "outputs": [
    {
     "name": "stdout",
     "output_type": "stream",
     "text": [
      " 1,000 rows of property sales data saved to 'property_sales.csv'\n"
     ]
    }
   ],
   "source": [
    "import pandas as pd\n",
    "import numpy as np\n",
    "import random\n",
    "from faker import Faker\n",
    "\n",
    "# Initialize Faker library\n",
    "fake = Faker()\n",
    "\n",
    "# Generate random data\n",
    "num_rows = 1000\n",
    "\n",
    "# Define 20 property-related columns\n",
    "data = {\n",
    "    'Property_ID': [f'PROP{1000 + i}' for i in range(num_rows)],\n",
    "    'Listing_Date': [fake.date_between(start_date='-2y', end_date='today') for _ in range(num_rows)],\n",
    "    'Address': [fake.address().replace(\"\\n\", \", \") for _ in range(num_rows)],\n",
    "    'City': [fake.city() for _ in range(num_rows)],\n",
    "    'State': [fake.state_abbr() for _ in range(num_rows)],\n",
    "    'Postal_Code': [fake.postcode() for _ in range(num_rows)],\n",
    "    'Property_Type': [random.choice(['House', 'Apartment', 'Condo', 'Villa', 'Cottage']) for _ in range(num_rows)],\n",
    "    'Bedrooms': np.random.randint(1, 6, size=num_rows),\n",
    "    'Bathrooms': np.random.randint(1, 4, size=num_rows),\n",
    "    'Square_Feet': np.random.randint(500, 5000, size=num_rows),\n",
    "    'Lot_Size_Acres': np.round(np.random.uniform(0.05, 3.5, size=num_rows), 2),\n",
    "    'Year_Built': np.random.randint(1950, 2023, size=num_rows),\n",
    "    'Listing_Price': np.random.randint(50000, 2000000, size=num_rows),\n",
    "    'Sale_Price': lambda x: int(x * np.random.uniform(0.9, 1.1)),\n",
    "    'Sale_Date': [fake.date_between(start_date='-1y', end_date='today') for _ in range(num_rows)],\n",
    "    'Agent_Name': [fake.name() for _ in range(num_rows)],\n",
    "    'Agent_Contact': [fake.phone_number() for _ in range(num_rows)],\n",
    "    'Days_on_Market': np.random.randint(0, 365, size=num_rows),\n",
    "    'Has_Garage': [random.choice([True, False]) for _ in range(num_rows)],\n",
    "    'Pool': [random.choice([True, False]) for _ in range(num_rows)],\n",
    "}\n",
    "\n",
    "# Calculate Sale_Price based on Listing_Price\n",
    "listing_prices = data['Listing_Price']\n",
    "data['Sale_Price'] = [int(lp * np.random.uniform(0.95, 1.05)) for lp in listing_prices]\n",
    "\n",
    "# Create DataFrame\n",
    "df = pd.DataFrame(data)\n",
    "\n",
    "# Save to CSV\n",
    "df.to_csv('property_sales.csv', index=False)\n",
    "\n",
    "print(\" 1,000 rows of property sales data saved to 'property_sales.csv'\")"
   ]
  },
  {
   "cell_type": "code",
   "execution_count": null,
   "id": "91aa9a00-7e6c-4f60-97d2-bfe2345006ca",
   "metadata": {},
   "outputs": [],
   "source": []
  }
 ],
 "metadata": {
  "kernelspec": {
   "display_name": "Python [conda env:base] *",
   "language": "python",
   "name": "conda-base-py"
  },
  "language_info": {
   "codemirror_mode": {
    "name": "ipython",
    "version": 3
   },
   "file_extension": ".py",
   "mimetype": "text/x-python",
   "name": "python",
   "nbconvert_exporter": "python",
   "pygments_lexer": "ipython3",
   "version": "3.13.5"
  }
 },
 "nbformat": 4,
 "nbformat_minor": 5
}
